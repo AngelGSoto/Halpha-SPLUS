{
 "cells": [
  {
   "cell_type": "code",
   "execution_count": 1,
   "id": "7c31e419",
   "metadata": {},
   "outputs": [
    {
     "name": "stderr",
     "output_type": "stream",
     "text": [
      "WARNING: AstropyDeprecationWarning: The update_default_config function is deprecated and may be removed in a future version. [astroquery._astropy_init]\n"
     ]
    }
   ],
   "source": [
    "import splusdata\n",
    "import getpass\n",
    "import pandas as pd\n",
    "from astropy.table import Table, vstack\n",
    "import numpy as np\n",
    "from pathlib import Path\n",
    "  \n",
    "ROOT = Path(\"../WD-GaiaDr3\") "
   ]
  },
  {
   "cell_type": "code",
   "execution_count": 2,
   "id": "7bbe67e4",
   "metadata": {},
   "outputs": [
    {
     "name": "stdout",
     "output_type": "stream",
     "text": [
      "Login: Luis\n",
      "Password: ········\n",
      "You have access to internal data\n"
     ]
    }
   ],
   "source": [
    "# Connecting with SPLUS database\n",
    "username = input(prompt=\"Login: \")\n",
    "password = getpass.getpass(\"Password: \")\n",
    "conn = splusdata.connect(username, password)"
   ]
  },
  {
   "cell_type": "code",
   "execution_count": 15,
   "id": "d677f1f0",
   "metadata": {},
   "outputs": [],
   "source": [
    "tab = Table.read(ROOT / \"WD-gaiadr3-p95-SPLUS-cor03.ecsv\", format = \"ascii.ecsv\")"
   ]
  },
  {
   "cell_type": "code",
   "execution_count": 16,
   "id": "cbe7a267",
   "metadata": {},
   "outputs": [],
   "source": [
    "df = (tab.to_pandas())"
   ]
  },
  {
   "cell_type": "code",
   "execution_count": 17,
   "id": "74d6ef77",
   "metadata": {},
   "outputs": [],
   "source": [
    "Query = f\"\"\"SELECT detection.Field, detection.ID, detection.RA, detection.DEC,\n",
    "            detection.FWHM, detection.ISOarea, detection.KRON_RADIUS, \n",
    "             detection.MU_MAX, detection.nDet_PStotal, detection.PhotoFlagDet, \n",
    "                  detection.CLASS_STAR, detection.u_PStotal, detection.J0378_PStotal, \n",
    "                  detection.J0395_PStotal, detection.J0410_PStotal, detection.J0430_PStotal, \n",
    "                  detection.g_PStotal, detection.J0515_PStotal, detection.r_PStotal, \n",
    "                  detection.J0660_PStotal, detection.i_PStotal, \n",
    "                  detection.J0861_PStotal, detection.z_PStotal, detection.e_u_PStotal, \n",
    "                  detection.e_J0378_PStotal, detection.e_J0395_PStotal, \n",
    "                  detection.e_J0410_PStotal, detection.e_J0430_PStotal, \n",
    "                  detection.e_g_PStotal, detection.e_J0515_PStotal, detection.e_R_PStotal, \n",
    "                  detection.e_J0660_PStotal, detection.e_i_PStotal, \n",
    "                  detection.e_J0861_PStotal, detection.e_z_PStotal \n",
    "                  FROM TAP_UPLOAD.upload as tap \n",
    "                  LEFT OUTER JOIN \"idr3\".\"all_idr3\" as detection ON tap.ID = detection.ID\"\"\"  "
   ]
  },
  {
   "cell_type": "code",
   "execution_count": 18,
   "id": "d34f97e3",
   "metadata": {},
   "outputs": [
    {
     "name": "stdout",
     "output_type": "stream",
     "text": [
      "finished\n",
      "Number objects with match: 769\n"
     ]
    }
   ],
   "source": [
    "results = conn.query(Query, df)\n",
    "print(\"Number objects with match:\", len(results))"
   ]
  },
  {
   "cell_type": "code",
   "execution_count": 19,
   "id": "4f0f7ce5",
   "metadata": {},
   "outputs": [
    {
     "data": {
      "text/html": [
       "<div><i>Table length=769</i>\n",
       "<table id=\"table140420590838016\" class=\"table-striped table-bordered table-condensed\">\n",
       "<thead><tr><th>Field</th><th>ID</th><th>RA</th><th>DEC</th><th>FWHM</th><th>ISOarea</th><th>KRON_RADIUS</th><th>MU_MAX</th><th>nDet_PStotal</th><th>PhotoFlagDet</th><th>CLASS_STAR</th><th>u_PStotal</th><th>J0378_PStotal</th><th>J0395_PStotal</th><th>J0410_PStotal</th><th>J0430_PStotal</th><th>g_PStotal</th><th>J0515_PStotal</th><th>r_PStotal</th><th>J0660_PStotal</th><th>i_PStotal</th><th>J0861_PStotal</th><th>z_PStotal</th><th>e_u_PStotal</th><th>e_J0378_PStotal</th><th>e_J0395_PStotal</th><th>e_J0410_PStotal</th><th>e_J0430_PStotal</th><th>e_g_PStotal</th><th>e_J0515_PStotal</th><th>e_r_PStotal</th><th>e_J0660_PStotal</th><th>e_i_PStotal</th><th>e_J0861_PStotal</th><th>e_z_PStotal</th></tr></thead>\n",
       "<thead><tr><th>bytes13</th><th>bytes25</th><th>float64</th><th>float64</th><th>float32</th><th>int32</th><th>float32</th><th>float32</th><th>float32</th><th>int16</th><th>float32</th><th>float32</th><th>float32</th><th>float32</th><th>float32</th><th>float32</th><th>float32</th><th>float32</th><th>float32</th><th>float32</th><th>float32</th><th>float32</th><th>float32</th><th>float32</th><th>float32</th><th>float32</th><th>float32</th><th>float32</th><th>float32</th><th>float32</th><th>float32</th><th>float32</th><th>float32</th><th>float32</th><th>float32</th></tr></thead>\n",
       "<tr><td>SPLUS-s02s26</td><td>iDR3.SPLUS-s02s26.003766</td><td>358.9432113146461</td><td>-1.9716170624346863</td><td>3.2820015</td><td>39</td><td>4.2547665</td><td>16.008728</td><td>12.0</td><td>0</td><td>0.9475565</td><td>18.701347</td><td>18.662731</td><td>18.649267</td><td>18.600239</td><td>18.649029</td><td>18.735949</td><td>18.709774</td><td>19.000465</td><td>19.315979</td><td>19.395031</td><td>19.431543</td><td>19.719936</td><td>0.031688504</td><td>0.045926753</td><td>0.102155395</td><td>0.060766723</td><td>0.059217732</td><td>0.024129268</td><td>0.052078694</td><td>0.025111286</td><td>0.03628684</td><td>0.042269327</td><td>0.087225154</td><td>0.10384133</td></tr>\n",
       "<tr><td>STRIPE82-0170</td><td>iDR3.STRIPE82-0170.057280</td><td>358.7361035266587</td><td>1.0585469785529682</td><td>2.2027957</td><td>35</td><td>4.0720043</td><td>14.821342</td><td>12.0</td><td>0</td><td>0.9953509</td><td>18.433344</td><td>18.325645</td><td>18.37574</td><td>18.347696</td><td>18.370739</td><td>18.45743</td><td>18.420837</td><td>18.71837</td><td>18.952679</td><td>19.011124</td><td>19.233128</td><td>19.345924</td><td>0.020808449</td><td>0.027825123</td><td>0.042908367</td><td>0.035710983</td><td>0.034911256</td><td>0.014229088</td><td>0.02899819</td><td>0.016490165</td><td>0.02243669</td><td>0.025675194</td><td>0.06604808</td><td>0.06150857</td></tr>\n",
       "<tr><td>STRIPE82-0170</td><td>iDR3.STRIPE82-0170.054486</td><td>357.90517543341116</td><td>1.1456231176415235</td><td>2.4851236</td><td>61</td><td>4.046352</td><td>14.269653</td><td>12.0</td><td>2</td><td>0.9837411</td><td>17.350082</td><td>17.343292</td><td>17.40889</td><td>17.50635</td><td>17.514412</td><td>17.781816</td><td>17.792934</td><td>18.183865</td><td>18.378738</td><td>18.52645</td><td>18.792248</td><td>18.775421</td><td>0.0108891465</td><td>0.015333938</td><td>0.02295357</td><td>0.021668052</td><td>0.020955019</td><td>0.009786866</td><td>0.019915828</td><td>0.01156703</td><td>0.015197103</td><td>0.017919386</td><td>0.045704946</td><td>0.037624214</td></tr>\n",
       "<tr><td>SPLUS-s23s48</td><td>iDR3.SPLUS-s23s48.043747</td><td>356.5515137606919</td><td>-29.259323287721177</td><td>2.2354696</td><td>60</td><td>3.597249</td><td>13.85719</td><td>12.0</td><td>2</td><td>0.9875202</td><td>16.984089</td><td>16.913074</td><td>16.98525</td><td>16.931543</td><td>16.950191</td><td>17.165188</td><td>17.129456</td><td>17.51006</td><td>17.7748</td><td>17.874416</td><td>18.005898</td><td>18.088354</td><td>0.009148228</td><td>0.01320519</td><td>0.019899942</td><td>0.01685664</td><td>0.01684463</td><td>0.007905641</td><td>0.014782395</td><td>0.008390664</td><td>0.0113289505</td><td>0.012916132</td><td>0.030917354</td><td>0.027160315</td></tr>\n",
       "<tr><td>SPLUS-s02s24</td><td>iDR3.SPLUS-s02s24.040962</td><td>356.4018374922103</td><td>-1.034896819792939</td><td>2.2576072</td><td>13</td><td>3.3483868</td><td>16.116777</td><td>12.0</td><td>0</td><td>0.9579876</td><td>19.368734</td><td>19.20585</td><td>19.14838</td><td>19.087553</td><td>19.275661</td><td>19.52354</td><td>19.574678</td><td>19.975178</td><td>20.251392</td><td>20.448076</td><td>20.236195</td><td>20.6983</td><td>0.051458735</td><td>0.076377235</td><td>0.10980973</td><td>0.10040284</td><td>0.11606074</td><td>0.05660669</td><td>0.11598785</td><td>0.064614296</td><td>0.09096021</td><td>0.113671124</td><td>0.18267709</td><td>0.21969333</td></tr>\n",
       "<tr><td>STRIPE82-0167</td><td>iDR3.STRIPE82-0167.017226</td><td>356.4018591458204</td><td>-1.0348978524027985</td><td>2.3875213</td><td>28</td><td>5.9451437</td><td>17.043074</td><td>12.0</td><td>2</td><td>0.9443057</td><td>19.309313</td><td>19.411364</td><td>19.394894</td><td>19.371344</td><td>19.359388</td><td>19.58168</td><td>19.597862</td><td>19.98359</td><td>20.170774</td><td>20.392527</td><td>20.723713</td><td>20.479591</td><td>0.032184254</td><td>0.05341562</td><td>0.08034429</td><td>0.0674136</td><td>0.061899632</td><td>0.025949689</td><td>0.06672475</td><td>0.037155207</td><td>0.0514307</td><td>0.07408701</td><td>0.21890278</td><td>0.15171456</td></tr>\n",
       "<tr><td>SPLUS-s23s48</td><td>iDR3.SPLUS-s23s48.006765</td><td>356.1648842364221</td><td>-30.095450945800255</td><td>2.15788</td><td>47</td><td>3.6815495</td><td>14.302897</td><td>12.0</td><td>0</td><td>0.981742</td><td>17.551674</td><td>17.535744</td><td>17.53066</td><td>17.462212</td><td>17.48207</td><td>17.68602</td><td>17.688957</td><td>18.08409</td><td>18.35007</td><td>18.468555</td><td>18.623646</td><td>18.671036</td><td>0.011986121</td><td>0.017983984</td><td>0.026412917</td><td>0.023127452</td><td>0.023181789</td><td>0.010631181</td><td>0.02067906</td><td>0.011854556</td><td>0.01619007</td><td>0.020312324</td><td>0.051668853</td><td>0.044843405</td></tr>\n",
       "<tr><td>STRIPE82-0166</td><td>iDR3.STRIPE82-0166.027674</td><td>356.0132992170632</td><td>0.7186144743892978</td><td>2.0886183</td><td>15</td><td>4.770042</td><td>15.879862</td><td>12.0</td><td>0</td><td>0.96561944</td><td>19.233795</td><td>19.242043</td><td>19.279896</td><td>19.28032</td><td>19.350662</td><td>19.506609</td><td>19.693962</td><td>19.870098</td><td>20.00917</td><td>20.241875</td><td>20.735748</td><td>20.706432</td><td>0.033443205</td><td>0.06763081</td><td>0.092258155</td><td>0.071787655</td><td>0.06976996</td><td>0.028327594</td><td>0.10364681</td><td>0.037154086</td><td>0.048759446</td><td>0.07086505</td><td>0.26791534</td><td>0.29296514</td></tr>\n",
       "<tr><td>...</td><td>...</td><td>...</td><td>...</td><td>...</td><td>...</td><td>...</td><td>...</td><td>...</td><td>...</td><td>...</td><td>...</td><td>...</td><td>...</td><td>...</td><td>...</td><td>...</td><td>...</td><td>...</td><td>...</td><td>...</td><td>...</td><td>...</td><td>...</td><td>...</td><td>...</td><td>...</td><td>...</td><td>...</td><td>...</td><td>...</td><td>...</td><td>...</td><td>...</td><td>...</td></tr>\n",
       "<tr><td>STRIPE82-0007</td><td>iDR3.STRIPE82-0007.026299</td><td>4.440731096928953</td><td>-0.677979554112545</td><td>2.4490356</td><td>22</td><td>4.4161043</td><td>16.659832</td><td>12.0</td><td>0</td><td>0.96017677</td><td>19.298222</td><td>19.25659</td><td>19.344969</td><td>19.153683</td><td>19.224398</td><td>19.315027</td><td>19.249752</td><td>19.624926</td><td>19.888666</td><td>19.861454</td><td>19.833797</td><td>20.074463</td><td>0.042117257</td><td>0.065337576</td><td>0.10464722</td><td>0.06760324</td><td>0.06870314</td><td>0.026239362</td><td>0.06042533</td><td>0.035547145</td><td>0.051820498</td><td>0.05231473</td><td>0.12874113</td><td>0.11700763</td></tr>\n",
       "<tr><td>STRIPE82-0008</td><td>iDR3.STRIPE82-0008.048922</td><td>3.873912737869893</td><td>1.089182193143532</td><td>2.1527157</td><td>24</td><td>3.8833306</td><td>15.482918</td><td>12.0</td><td>0</td><td>0.9712181</td><td>18.765232</td><td>18.687721</td><td>18.756035</td><td>18.901676</td><td>18.756207</td><td>19.044044</td><td>19.071667</td><td>19.434856</td><td>19.630526</td><td>19.82367</td><td>20.149694</td><td>19.862309</td><td>0.023688223</td><td>0.032781843</td><td>0.05117388</td><td>0.047738552</td><td>0.040684972</td><td>0.019812305</td><td>0.043994255</td><td>0.025621405</td><td>0.03373349</td><td>0.05086769</td><td>0.17182325</td><td>0.104276344</td></tr>\n",
       "<tr><td>SPLUS-s46s02</td><td>iDR3.SPLUS-s46s02.026830</td><td>2.8239144992048466</td><td>-59.890646824983165</td><td>2.462266</td><td>28</td><td>3.257061</td><td>15.122067</td><td>12.0</td><td>0</td><td>0.9672659</td><td>17.930784</td><td>17.910986</td><td>17.968357</td><td>18.049385</td><td>18.129065</td><td>18.304235</td><td>18.276691</td><td>18.643509</td><td>18.816608</td><td>19.110977</td><td>19.287094</td><td>19.28378</td><td>0.023086647</td><td>0.034285404</td><td>0.053833835</td><td>0.05148444</td><td>0.052891474</td><td>0.024837492</td><td>0.046382345</td><td>0.02849041</td><td>0.038890585</td><td>0.046485327</td><td>0.098263815</td><td>0.078636646</td></tr>\n",
       "<tr><td>STRIPE82-0006</td><td>iDR3.STRIPE82-0006.027461</td><td>2.744066021438094</td><td>0.875717704892627</td><td>4.913542</td><td>16</td><td>6.2452235</td><td>17.430437</td><td>12.0</td><td>3</td><td>0.7244464</td><td>20.242035</td><td>20.65553</td><td>20.138245</td><td>20.006954</td><td>20.381626</td><td>20.080627</td><td>20.290035</td><td>20.233452</td><td>20.391457</td><td>20.542316</td><td>21.671959</td><td>20.558622</td><td>0.13911879</td><td>0.29108503</td><td>0.27411318</td><td>0.20660742</td><td>0.26245502</td><td>0.07773297</td><td>0.21603517</td><td>0.08652394</td><td>0.10753662</td><td>0.1452444</td><td>0.90882105</td><td>0.2696348</td></tr>\n",
       "<tr><td>STRIPE82-0004</td><td>iDR3.STRIPE82-0004.039948</td><td>1.5941605745705296</td><td>1.1663381358452276</td><td>2.088461</td><td>24</td><td>4.8608465</td><td>15.917727</td><td>12.0</td><td>2</td><td>0.9778375</td><td>18.42308</td><td>18.433954</td><td>18.51773</td><td>18.677431</td><td>18.684235</td><td>18.822834</td><td>18.864372</td><td>19.216766</td><td>19.492233</td><td>19.631372</td><td>20.077194</td><td>20.104473</td><td>0.024910191</td><td>0.035139214</td><td>0.05702966</td><td>0.050779767</td><td>0.04944877</td><td>0.02299909</td><td>0.056053795</td><td>0.029968603</td><td>0.043900006</td><td>0.052338853</td><td>0.17094243</td><td>0.14088126</td></tr>\n",
       "<tr><td>SPLUS-s46s02</td><td>iDR3.SPLUS-s46s02.052897</td><td>1.4060877890586387</td><td>-59.15202522313964</td><td>2.5773597</td><td>14</td><td>4.1074114</td><td>16.055593</td><td>12.0</td><td>0</td><td>0.88257885</td><td>18.820932</td><td>18.757818</td><td>18.824387</td><td>18.855093</td><td>19.047274</td><td>19.197842</td><td>19.286795</td><td>19.663376</td><td>19.616535</td><td>20.220598</td><td>20.064854</td><td>20.180523</td><td>0.04551171</td><td>0.065995626</td><td>0.10635636</td><td>0.10235059</td><td>0.11636209</td><td>0.05346086</td><td>0.11074823</td><td>0.06771434</td><td>0.07667979</td><td>0.12670882</td><td>0.19895189</td><td>0.1781212</td></tr>\n",
       "<tr><td>STRIPE82-0004</td><td>iDR3.STRIPE82-0004.022624</td><td>1.2914824429126524</td><td>0.6361150925783182</td><td>2.050573</td><td>26</td><td>4.2152753</td><td>15.443241</td><td>12.0</td><td>0</td><td>0.9790628</td><td>17.868326</td><td>17.857708</td><td>17.862461</td><td>18.070307</td><td>18.07265</td><td>18.320694</td><td>18.374756</td><td>18.742859</td><td>18.871012</td><td>19.106888</td><td>19.184603</td><td>19.40926</td><td>0.017137766</td><td>0.023752071</td><td>0.035518304</td><td>0.032340042</td><td>0.031422492</td><td>0.015892522</td><td>0.038382873</td><td>0.020797225</td><td>0.027073659</td><td>0.033310343</td><td>0.077379845</td><td>0.07526465</td></tr>\n",
       "<tr><td>SPLUS-s24s02</td><td>iDR3.SPLUS-s24s02.001207</td><td>0.8047220297438272</td><td>-31.583421903299058</td><td>2.9946506</td><td>17</td><td>5.2365217</td><td>17.095264</td><td>12.0</td><td>0</td><td>0.7491612</td><td>20.470509</td><td>20.482807</td><td>20.226894</td><td>19.822624</td><td>20.141808</td><td>20.045477</td><td>19.937828</td><td>20.226246</td><td>20.581778</td><td>20.61631</td><td>20.639467</td><td>20.578876</td><td>0.094231255</td><td>0.15990834</td><td>0.21261016</td><td>0.13829151</td><td>0.2003645</td><td>0.051904947</td><td>0.10971465</td><td>0.052903354</td><td>0.078125246</td><td>0.097823635</td><td>0.21764082</td><td>0.17630933</td></tr>\n",
       "</table></div>"
      ],
      "text/plain": [
       "<Table length=769>\n",
       "    Field                 ID                    RA                 DEC            FWHM   ISOarea KRON_RADIUS ... e_J0515_PStotal e_r_PStotal e_J0660_PStotal e_i_PStotal e_J0861_PStotal e_z_PStotal\n",
       "   bytes13             bytes25               float64             float64        float32   int32    float32   ...     float32       float32       float32       float32       float32       float32  \n",
       "------------- ------------------------- ------------------ ------------------- --------- ------- ----------- ... --------------- ----------- --------------- ----------- --------------- -----------\n",
       "SPLUS-s02s26  iDR3.SPLUS-s02s26.003766   358.9432113146461 -1.9716170624346863 3.2820015      39   4.2547665 ...     0.052078694 0.025111286      0.03628684 0.042269327     0.087225154  0.10384133\n",
       "STRIPE82-0170 iDR3.STRIPE82-0170.057280  358.7361035266587  1.0585469785529682 2.2027957      35   4.0720043 ...      0.02899819 0.016490165      0.02243669 0.025675194      0.06604808  0.06150857\n",
       "STRIPE82-0170 iDR3.STRIPE82-0170.054486 357.90517543341116  1.1456231176415235 2.4851236      61    4.046352 ...     0.019915828  0.01156703     0.015197103 0.017919386     0.045704946 0.037624214\n",
       "SPLUS-s23s48  iDR3.SPLUS-s23s48.043747   356.5515137606919 -29.259323287721177 2.2354696      60    3.597249 ...     0.014782395 0.008390664    0.0113289505 0.012916132     0.030917354 0.027160315\n",
       "SPLUS-s02s24  iDR3.SPLUS-s02s24.040962   356.4018374922103  -1.034896819792939 2.2576072      13   3.3483868 ...      0.11598785 0.064614296      0.09096021 0.113671124      0.18267709  0.21969333\n",
       "STRIPE82-0167 iDR3.STRIPE82-0167.017226  356.4018591458204 -1.0348978524027985 2.3875213      28   5.9451437 ...      0.06672475 0.037155207       0.0514307  0.07408701      0.21890278  0.15171456\n",
       "SPLUS-s23s48  iDR3.SPLUS-s23s48.006765   356.1648842364221 -30.095450945800255   2.15788      47   3.6815495 ...      0.02067906 0.011854556      0.01619007 0.020312324     0.051668853 0.044843405\n",
       "STRIPE82-0166 iDR3.STRIPE82-0166.027674  356.0132992170632  0.7186144743892978 2.0886183      15    4.770042 ...      0.10364681 0.037154086     0.048759446  0.07086505      0.26791534  0.29296514\n",
       "          ...                       ...                ...                 ...       ...     ...         ... ...             ...         ...             ...         ...             ...         ...\n",
       "STRIPE82-0007 iDR3.STRIPE82-0007.026299  4.440731096928953  -0.677979554112545 2.4490356      22   4.4161043 ...      0.06042533 0.035547145     0.051820498  0.05231473      0.12874113  0.11700763\n",
       "STRIPE82-0008 iDR3.STRIPE82-0008.048922  3.873912737869893   1.089182193143532 2.1527157      24   3.8833306 ...     0.043994255 0.025621405      0.03373349  0.05086769      0.17182325 0.104276344\n",
       "SPLUS-s46s02  iDR3.SPLUS-s46s02.026830  2.8239144992048466 -59.890646824983165  2.462266      28    3.257061 ...     0.046382345  0.02849041     0.038890585 0.046485327     0.098263815 0.078636646\n",
       "STRIPE82-0006 iDR3.STRIPE82-0006.027461  2.744066021438094   0.875717704892627  4.913542      16   6.2452235 ...      0.21603517  0.08652394      0.10753662   0.1452444      0.90882105   0.2696348\n",
       "STRIPE82-0004 iDR3.STRIPE82-0004.039948 1.5941605745705296  1.1663381358452276  2.088461      24   4.8608465 ...     0.056053795 0.029968603     0.043900006 0.052338853      0.17094243  0.14088126\n",
       "SPLUS-s46s02  iDR3.SPLUS-s46s02.052897  1.4060877890586387  -59.15202522313964 2.5773597      14   4.1074114 ...      0.11074823  0.06771434      0.07667979  0.12670882      0.19895189   0.1781212\n",
       "STRIPE82-0004 iDR3.STRIPE82-0004.022624 1.2914824429126524  0.6361150925783182  2.050573      26   4.2152753 ...     0.038382873 0.020797225     0.027073659 0.033310343     0.077379845  0.07526465\n",
       "SPLUS-s24s02  iDR3.SPLUS-s24s02.001207  0.8047220297438272 -31.583421903299058 2.9946506      17   5.2365217 ...      0.10971465 0.052903354     0.078125246 0.097823635      0.21764082  0.17630933"
      ]
     },
     "execution_count": 19,
     "metadata": {},
     "output_type": "execute_result"
    }
   ],
   "source": [
    "\n",
    "results"
   ]
  },
  {
   "cell_type": "code",
   "execution_count": 20,
   "id": "787f3a36",
   "metadata": {},
   "outputs": [],
   "source": [
    "asciifile = \"WD-gaiadr3-p95-SPLUS-cor03-complete.ecsv\"\n",
    "results.write(ROOT / asciifile, format=\"ascii.ecsv\", overwrite=True)\n",
    "df_table = results.to_pandas()\n",
    "df_table.to_csv(ROOT  / \"WD-gaiadr3-p95-SPLUS-cor-03-complete.csv\", index = False)\n"
   ]
  },
  {
   "cell_type": "code",
   "execution_count": null,
   "id": "ea969bf7",
   "metadata": {},
   "outputs": [],
   "source": []
  }
 ],
 "metadata": {
  "kernelspec": {
   "display_name": "Python 3 (ipykernel)",
   "language": "python",
   "name": "python3"
  },
  "language_info": {
   "codemirror_mode": {
    "name": "ipython",
    "version": 3
   },
   "file_extension": ".py",
   "mimetype": "text/x-python",
   "name": "python",
   "nbconvert_exporter": "python",
   "pygments_lexer": "ipython3",
   "version": "3.8.5"
  }
 },
 "nbformat": 4,
 "nbformat_minor": 5
}
