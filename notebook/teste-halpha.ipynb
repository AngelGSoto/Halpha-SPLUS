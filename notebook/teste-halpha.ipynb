{
 "cells": [
  {
   "cell_type": "code",
   "execution_count": 1,
   "id": "5d75e695",
   "metadata": {},
   "outputs": [],
   "source": [
    "import splus_estimator as sp\n",
    "import astropy.units as u"
   ]
  },
  {
   "cell_type": "code",
   "execution_count": 2,
   "id": "bbf799d1",
   "metadata": {},
   "outputs": [],
   "source": [
    "wline = 6562.8 * u.AA\n",
    "halpha_bands = [\"R\", \"F660\", \"I\"]"
   ]
  },
  {
   "cell_type": "code",
   "execution_count": 3,
   "id": "8114df1b",
   "metadata": {},
   "outputs": [],
   "source": [
    "halpha_estimator = sp.SPLUSEmLine(wline, halpha_bands)"
   ]
  },
  {
   "cell_type": "code",
   "execution_count": 4,
   "id": "27c60e0d",
   "metadata": {},
   "outputs": [
    {
     "data": {
      "text/plain": [
       "<splus_estimator.SPLUSEmLine at 0x7fb4e58fd4f0>"
      ]
     },
     "execution_count": 4,
     "metadata": {},
     "output_type": "execute_result"
    }
   ],
   "source": [
    "halpha_estimator"
   ]
  },
  {
   "cell_type": "code",
   "execution_count": null,
   "id": "dd293282",
   "metadata": {},
   "outputs": [],
   "source": []
  },
  {
   "cell_type": "code",
   "execution_count": null,
   "id": "475597d4",
   "metadata": {},
   "outputs": [],
   "source": []
  }
 ],
 "metadata": {
  "kernelspec": {
   "display_name": "Python 3 (ipykernel)",
   "language": "python",
   "name": "python3"
  },
  "language_info": {
   "codemirror_mode": {
    "name": "ipython",
    "version": 3
   },
   "file_extension": ".py",
   "mimetype": "text/x-python",
   "name": "python",
   "nbconvert_exporter": "python",
   "pygments_lexer": "ipython3",
   "version": "3.8.5"
  }
 },
 "nbformat": 4,
 "nbformat_minor": 5
}
