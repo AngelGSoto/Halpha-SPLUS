{
 "cells": [
  {
   "cell_type": "code",
   "execution_count": 1,
   "id": "6476866d",
   "metadata": {},
   "outputs": [
    {
     "name": "stderr",
     "output_type": "stream",
     "text": [
      "WARNING: AstropyDeprecationWarning: The update_default_config function is deprecated and may be removed in a future version. [astroquery._astropy_init]\n"
     ]
    }
   ],
   "source": [
    "import splusdata\n",
    "import getpass\n",
    "import pandas as pd\n",
    "from astropy.table import Table, vstack\n",
    "import numpy as np\n",
    "from pathlib import Path"
   ]
  },
  {
   "cell_type": "code",
   "execution_count": 56,
   "id": "2070244f",
   "metadata": {},
   "outputs": [],
   "source": [
    "ROOT_PATH = Path(\"../zp\") "
   ]
  },
  {
   "cell_type": "code",
   "execution_count": 57,
   "id": "8f96bfbd",
   "metadata": {},
   "outputs": [
    {
     "name": "stdout",
     "output_type": "stream",
     "text": [
      "Login: Luis\n",
      "Password: ········\n",
      "You have access to internal data\n"
     ]
    }
   ],
   "source": [
    "# Connecting with SPLUS database\n",
    "username = input(prompt=\"Login: \")\n",
    "password = getpass.getpass(\"Password: \")\n",
    "conn = splusdata.connect(username, password)"
   ]
  },
  {
   "cell_type": "code",
   "execution_count": 58,
   "id": "be1acb95",
   "metadata": {},
   "outputs": [],
   "source": [
    "Query = f\"\"\"SELECT TOP 1000 * FROM \"idr3\".\"vac_zero_points\" \"\"\""
   ]
  },
  {
   "cell_type": "code",
   "execution_count": 59,
   "id": "45f11c04",
   "metadata": {},
   "outputs": [
    {
     "name": "stdout",
     "output_type": "stream",
     "text": [
      "finished\n"
     ]
    }
   ],
   "source": [
    "#number = 967\n",
    "results = conn.query(Query)"
   ]
  },
  {
   "cell_type": "code",
   "execution_count": 60,
   "id": "752e61be",
   "metadata": {},
   "outputs": [
    {
     "data": {
      "text/html": [
       "<div><i>Table length=967</i>\n",
       "<table id=\"table140123069619456\" class=\"table-striped table-bordered table-condensed\">\n",
       "<thead><tr><th>F378</th><th>F395</th><th>F410</th><th>F430</th><th>F515</th><th>F660</th><th>F861</th><th>field</th><th>G</th><th>I</th><th>R</th><th>U</th><th>Z</th></tr></thead>\n",
       "<thead><tr><th>float64</th><th>float64</th><th>float64</th><th>float64</th><th>float64</th><th>float64</th><th>float64</th><th>bytes13</th><th>float64</th><th>float64</th><th>float64</th><th>float64</th><th>float64</th></tr></thead>\n",
       "<tr><td>20.193</td><td>20.16</td><td>21.164</td><td>21.286</td><td>21.551</td><td>21.167</td><td>21.71</td><td>STRIPE82-0001</td><td>23.614</td><td>23.437</td><td>23.624</td><td>20.981</td><td>22.873</td></tr>\n",
       "<tr><td>20.197</td><td>20.19</td><td>21.21</td><td>21.314</td><td>21.588</td><td>21.183000000000003</td><td>21.719</td><td>STRIPE82-0002</td><td>23.662</td><td>23.467</td><td>23.655</td><td>20.948</td><td>22.922</td></tr>\n",
       "<tr><td>19.472</td><td>19.508</td><td>20.61</td><td>20.743</td><td>20.862</td><td>20.349</td><td>20.884</td><td>STRIPE82-0003</td><td>22.969</td><td>22.643</td><td>22.851</td><td>20.205</td><td>22.122</td></tr>\n",
       "<tr><td>19.461</td><td>19.456</td><td>20.565</td><td>20.715</td><td>20.799</td><td>20.308</td><td>20.867</td><td>STRIPE82-0004</td><td>22.946</td><td>22.602</td><td>22.836</td><td>20.2</td><td>22.043000000000003</td></tr>\n",
       "<tr><td>19.462</td><td>19.478</td><td>20.577</td><td>20.716</td><td>20.864</td><td>20.352</td><td>20.877</td><td>STRIPE82-0005</td><td>22.977</td><td>22.616</td><td>22.847</td><td>20.207</td><td>22.039</td></tr>\n",
       "<tr><td>19.431</td><td>19.448</td><td>20.572</td><td>20.68</td><td>20.825</td><td>20.36</td><td>20.874</td><td>STRIPE82-0006</td><td>22.963</td><td>22.618</td><td>22.846</td><td>20.178</td><td>22.036</td></tr>\n",
       "<tr><td>19.44</td><td>19.469</td><td>20.557</td><td>20.699</td><td>20.843000000000004</td><td>20.342</td><td>20.868</td><td>STRIPE82-0007</td><td>22.958</td><td>22.613000000000003</td><td>22.834</td><td>20.189</td><td>22.04</td></tr>\n",
       "<tr><td>20.213</td><td>20.152</td><td>21.232</td><td>21.345</td><td>21.639</td><td>21.19</td><td>21.704</td><td>STRIPE82-0008</td><td>23.688</td><td>23.45</td><td>23.649</td><td>21.003</td><td>22.877</td></tr>\n",
       "<tr><td>...</td><td>...</td><td>...</td><td>...</td><td>...</td><td>...</td><td>...</td><td>...</td><td>...</td><td>...</td><td>...</td><td>...</td><td>...</td></tr>\n",
       "<tr><td>19.978</td><td>20.015</td><td>21.07</td><td>21.199</td><td>21.467</td><td>21.047</td><td>21.573</td><td>HYDRA-0160</td><td>23.497</td><td>23.315</td><td>23.521</td><td>20.649</td><td>22.715</td></tr>\n",
       "<tr><td>20.056</td><td>20.028</td><td>21.034</td><td>21.177</td><td>21.445</td><td>21.051</td><td>21.545</td><td>HYDRA-0161</td><td>23.477</td><td>23.279</td><td>23.511</td><td>20.712</td><td>22.645</td></tr>\n",
       "<tr><td>19.976</td><td>19.966</td><td>20.964</td><td>21.08</td><td>21.342</td><td>21.009</td><td>21.536</td><td>HYDRA-0162</td><td>23.36</td><td>23.254</td><td>23.451</td><td>20.626</td><td>22.62</td></tr>\n",
       "<tr><td>19.66</td><td>19.626</td><td>20.644</td><td>20.77</td><td>21.067</td><td>20.83</td><td>21.449</td><td>HYDRA-0163</td><td>23.075</td><td>23.106</td><td>23.248</td><td>20.29</td><td>22.479</td></tr>\n",
       "<tr><td>19.931</td><td>19.909</td><td>21.006</td><td>21.138</td><td>21.459</td><td>21.068</td><td>21.581</td><td>HYDRA-0164</td><td>23.473000000000003</td><td>23.315</td><td>23.523000000000003</td><td>20.639</td><td>22.715</td></tr>\n",
       "<tr><td>19.844</td><td>19.845</td><td>20.953000000000003</td><td>21.06</td><td>21.386</td><td>21.038</td><td>21.542</td><td>HYDRA-0165</td><td>23.432</td><td>23.254</td><td>23.486</td><td>20.515</td><td>22.613000000000003</td></tr>\n",
       "<tr><td>20.12</td><td>20.059</td><td>21.089</td><td>21.207</td><td>21.453000000000003</td><td>21.047</td><td>21.543000000000003</td><td>HYDRA-0166</td><td>23.486</td><td>23.253</td><td>23.5</td><td>20.87</td><td>22.613000000000003</td></tr>\n",
       "<tr><td>20.133</td><td>20.083</td><td>21.081</td><td>21.187</td><td>21.451</td><td>21.029</td><td>21.54</td><td>HYDRA-0167</td><td>23.477</td><td>23.255</td><td>23.497</td><td>20.894</td><td>22.614</td></tr>\n",
       "</table></div>"
      ],
      "text/plain": [
       "<Table length=967>\n",
       "  F378    F395         F410          F430         F515               F660               F861            field             G                  I                  R             U            Z         \n",
       "float64 float64      float64       float64      float64            float64            float64          bytes13         float64            float64            float64       float64      float64      \n",
       "------- ------- ------------------ ------- ------------------ ------------------ ------------------ ------------- ------------------ ------------------ ------------------ ------- ------------------\n",
       " 20.193   20.16             21.164  21.286             21.551             21.167              21.71 STRIPE82-0001             23.614             23.437             23.624  20.981             22.873\n",
       " 20.197   20.19              21.21  21.314             21.588 21.183000000000003             21.719 STRIPE82-0002             23.662             23.467             23.655  20.948             22.922\n",
       " 19.472  19.508              20.61  20.743             20.862             20.349             20.884 STRIPE82-0003             22.969             22.643             22.851  20.205             22.122\n",
       " 19.461  19.456             20.565  20.715             20.799             20.308             20.867 STRIPE82-0004             22.946             22.602             22.836    20.2 22.043000000000003\n",
       " 19.462  19.478             20.577  20.716             20.864             20.352             20.877 STRIPE82-0005             22.977             22.616             22.847  20.207             22.039\n",
       " 19.431  19.448             20.572   20.68             20.825              20.36             20.874 STRIPE82-0006             22.963             22.618             22.846  20.178             22.036\n",
       "  19.44  19.469             20.557  20.699 20.843000000000004             20.342             20.868 STRIPE82-0007             22.958 22.613000000000003             22.834  20.189              22.04\n",
       " 20.213  20.152             21.232  21.345             21.639              21.19             21.704 STRIPE82-0008             23.688              23.45             23.649  21.003             22.877\n",
       "    ...     ...                ...     ...                ...                ...                ...           ...                ...                ...                ...     ...                ...\n",
       " 19.978  20.015              21.07  21.199             21.467             21.047             21.573 HYDRA-0160                23.497             23.315             23.521  20.649             22.715\n",
       " 20.056  20.028             21.034  21.177             21.445             21.051             21.545 HYDRA-0161                23.477             23.279             23.511  20.712             22.645\n",
       " 19.976  19.966             20.964   21.08             21.342             21.009             21.536 HYDRA-0162                 23.36             23.254             23.451  20.626              22.62\n",
       "  19.66  19.626             20.644   20.77             21.067              20.83             21.449 HYDRA-0163                23.075             23.106             23.248   20.29             22.479\n",
       " 19.931  19.909             21.006  21.138             21.459             21.068             21.581 HYDRA-0164    23.473000000000003             23.315 23.523000000000003  20.639             22.715\n",
       " 19.844  19.845 20.953000000000003   21.06             21.386             21.038             21.542 HYDRA-0165                23.432             23.254             23.486  20.515 22.613000000000003\n",
       "  20.12  20.059             21.089  21.207 21.453000000000003             21.047 21.543000000000003 HYDRA-0166                23.486             23.253               23.5   20.87 22.613000000000003\n",
       " 20.133  20.083             21.081  21.187             21.451             21.029              21.54 HYDRA-0167                23.477             23.255             23.497  20.894             22.614"
      ]
     },
     "execution_count": 60,
     "metadata": {},
     "output_type": "execute_result"
    }
   ],
   "source": [
    "results"
   ]
  },
  {
   "cell_type": "code",
   "execution_count": 63,
   "id": "d8de6374",
   "metadata": {},
   "outputs": [],
   "source": [
    "results.write(ROOT_PATH / \"zp.ecsv\", format=\"ascii.ecsv\")"
   ]
  },
  {
   "cell_type": "code",
   "execution_count": null,
   "id": "63937c4d",
   "metadata": {},
   "outputs": [],
   "source": [
    "#field, F378, F395, F410, F430, F515, F660, F861, field, G, I, R, "
   ]
  }
 ],
 "metadata": {
  "kernelspec": {
   "display_name": "Python 3 (ipykernel)",
   "language": "python",
   "name": "python3"
  },
  "language_info": {
   "codemirror_mode": {
    "name": "ipython",
    "version": 3
   },
   "file_extension": ".py",
   "mimetype": "text/x-python",
   "name": "python",
   "nbconvert_exporter": "python",
   "pygments_lexer": "ipython3",
   "version": "3.8.5"
  }
 },
 "nbformat": 4,
 "nbformat_minor": 5
}
